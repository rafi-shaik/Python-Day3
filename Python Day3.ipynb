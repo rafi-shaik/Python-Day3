{
 "cells": [
  {
   "cell_type": "markdown",
   "metadata": {},
   "source": [
    "# String Slicing"
   ]
  },
  {
   "cell_type": "code",
   "execution_count": 3,
   "metadata": {},
   "outputs": [
    {
     "name": "stdout",
     "output_type": "stream",
     "text": [
      "Im superman\n",
      "Hey Jack\n"
     ]
    }
   ],
   "source": [
    "print(\"Im superman\")\n",
    "print('Hey Jack')"
   ]
  },
  {
   "cell_type": "code",
   "execution_count": 4,
   "metadata": {},
   "outputs": [
    {
     "name": "stdout",
     "output_type": "stream",
     "text": [
      "I\n",
      "I love you 3000\n",
      "I love you 3000\n",
      "I love you 3000\n",
      "0003 uoy evol I\n"
     ]
    }
   ],
   "source": [
    "z=\"I love you 3000\"\n",
    "print(z[0])\n",
    "print(z[:])\n",
    "print(z[0:])\n",
    "print(z[:17:1])\n",
    "print(z[::-1])\n"
   ]
  },
  {
   "cell_type": "code",
   "execution_count": 4,
   "metadata": {},
   "outputs": [
    {
     "name": "stdout",
     "output_type": "stream",
     "text": [
      "P\n",
      "y\n",
      "n\n",
      "n\n",
      "ytho\n",
      "nohtyP\n",
      "Pto\n",
      "nhy\n"
     ]
    }
   ],
   "source": [
    "x=\"Python\"\n",
    "\n",
    "## First character\n",
    "print(x[0])\n",
    "\n",
    "## Second character\n",
    "print(x[1])\n",
    "\n",
    "## Last chracter\n",
    "print(x[5])\n",
    "\n",
    "## Last character in other way \n",
    "print(x[-1])\n",
    "\n",
    "## First and last excluded\n",
    "print(x[1:-1])\n",
    "\n",
    "## Reverse\n",
    "print(x[::-1])\n",
    "\n",
    "## Alternate\n",
    "print(x[::2])\n",
    "\n",
    "## Alternate in Reverse\n",
    "print(x[::-2])"
   ]
  },
  {
   "cell_type": "code",
   "execution_count": 3,
   "metadata": {},
   "outputs": [
    {
     "name": "stdout",
     "output_type": "stream",
     "text": [
      "hey hari\n",
      "HEY HARI\n",
      "H e y   H a r i\n",
      "H,e,y, ,H,a,r,i\n",
      "['Hey', 'Hari']\n",
      "xey xari\n"
     ]
    }
   ],
   "source": [
    "a=\"Hey Hari\"\n",
    "## Lowercase letters\n",
    "print(a.lower())\n",
    "## Uppercase string\n",
    "print(a.upper())\n",
    "## Join\n",
    "print(\" \".join(a))\n",
    "print(\",\".join(a))\n",
    "## Split\n",
    "print(a.split())\n",
    "## Replace\n",
    "print(a.replace(\"H\",\"x\"))"
   ]
  },
  {
   "cell_type": "markdown",
   "metadata": {},
   "source": [
    "# Data Structures\n",
    "## List\n",
    "## Tuple\n",
    "## Dictionary"
   ]
  },
  {
   "cell_type": "code",
   "execution_count": 7,
   "metadata": {},
   "outputs": [
    {
     "name": "stdout",
     "output_type": "stream",
     "text": [
      "[1, 2, 5, 6, 8, 7]\n"
     ]
    }
   ],
   "source": [
    "x=[1,2,5,6,8,7]\n",
    "print(x)"
   ]
  },
  {
   "cell_type": "code",
   "execution_count": 6,
   "metadata": {},
   "outputs": [
    {
     "name": "stdout",
     "output_type": "stream",
     "text": [
      "6\n",
      "8\n",
      "None\n",
      "[45, 1, 2, 5, 6, 8, 7]\n"
     ]
    },
    {
     "data": {
      "text/plain": [
       "[45, 1, 2, 5, 6]"
      ]
     },
     "execution_count": 6,
     "metadata": {},
     "output_type": "execute_result"
    }
   ],
   "source": [
    "x=[1,2,5,6,8,7]\n",
    "print(len(x))\n",
    "print(x[4])\n",
    "print(x.insert(0,45))\n",
    "print(x)\n",
    "x[0:5]"
   ]
  },
  {
   "cell_type": "code",
   "execution_count": 7,
   "metadata": {},
   "outputs": [
    {
     "data": {
      "text/plain": [
       "45"
      ]
     },
     "execution_count": 7,
     "metadata": {},
     "output_type": "execute_result"
    }
   ],
   "source": [
    "max(x)"
   ]
  },
  {
   "cell_type": "code",
   "execution_count": null,
   "metadata": {},
   "outputs": [],
   "source": []
  }
 ],
 "metadata": {
  "kernelspec": {
   "display_name": "Python 3",
   "language": "python",
   "name": "python3"
  },
  "language_info": {
   "codemirror_mode": {
    "name": "ipython",
    "version": 3
   },
   "file_extension": ".py",
   "mimetype": "text/x-python",
   "name": "python",
   "nbconvert_exporter": "python",
   "pygments_lexer": "ipython3",
   "version": "3.7.3"
  }
 },
 "nbformat": 4,
 "nbformat_minor": 2
}
